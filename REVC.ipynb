{
 "cells": [
  {
   "cell_type": "markdown",
   "metadata": {},
   "source": [
    "## 3.REVC\n"
   ]
  },
  {
   "cell_type": "code",
   "execution_count": 1,
   "metadata": {
    "collapsed": false
   },
   "outputs": [
    {
     "name": "stdout",
     "output_type": "stream",
     "text": [
      "ACCGGGTTTT\n"
     ]
    }
   ],
   "source": [
    "def reverse(DNA):\n",
    "    DNAlist = list(DNA)\n",
    "    reverseDNA = DNAlist.reverse()\n",
    "    \n",
    "    for i in range(len(DNA)):\n",
    "        if (DNAlist[i] == 'A'):\n",
    "            DNAlist[i] = 'T'\n",
    "        elif(DNAlist[i] == 'T'):\n",
    "            DNAlist[i] = 'A'\n",
    "        elif(DNAlist[i] == 'G'):\n",
    "            DNAlist[i] = 'C'\n",
    "        elif(DNAlist[i] == 'C'):\n",
    "            DNAlist[i] = 'G'\n",
    "                \n",
    "    result=''.join(DNAlist)           \n",
    "    print(result)\n",
    "        \n",
    "reverse('AAAACCCGGT')"
   ]
  }
 ],
 "metadata": {
  "kernelspec": {
   "display_name": "Python [Root]",
   "language": "python",
   "name": "Python [Root]"
  },
  "language_info": {
   "codemirror_mode": {
    "name": "ipython",
    "version": 3
   },
   "file_extension": ".py",
   "mimetype": "text/x-python",
   "name": "python",
   "nbconvert_exporter": "python",
   "pygments_lexer": "ipython3",
   "version": "3.5.2"
  }
 },
 "nbformat": 4,
 "nbformat_minor": 0
}
