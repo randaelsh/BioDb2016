{
 "cells": [
  {
   "cell_type": "code",
   "execution_count": null,
   "metadata": {
    "collapsed": false
   },
   "outputs": [],
   "source": [
    "from urllib.request import urlopen\n",
    "\n",
    "def UNIID(prot):\n",
    "    result = []\n",
    "    uniprot = urlopen('http://www.uniprot.org/uniprot/' + prot + '.txt').read()\n",
    "    uniprot = str(uniprot)\n",
    "    while uniprot.find(\"P:\") != -1:\n",
    "        index1 = uniprot.find(\"P:\")\n",
    "        index2 = uniprot.find(\";\", index1, len(uniprot))\n",
    "        result.append(uniprot[index1+2:index2])\n",
    "        uniprot = uniprot[index2:]\n",
    "    return result\n",
    "\n",
    "prot1= input('what is the gene id?')\n",
    "UNIID(prot1)\n"
   ]
  }
 ],
 "metadata": {
  "kernelspec": {
   "display_name": "Python [Root]",
   "language": "python",
   "name": "Python [Root]"
  },
  "language_info": {
   "codemirror_mode": {
    "name": "ipython",
    "version": 3
   },
   "file_extension": ".py",
   "mimetype": "text/x-python",
   "name": "python",
   "nbconvert_exporter": "python",
   "pygments_lexer": "ipython3",
   "version": "3.5.2"
  }
 },
 "nbformat": 4,
 "nbformat_minor": 0
}
