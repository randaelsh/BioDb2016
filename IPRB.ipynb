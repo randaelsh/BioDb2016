{
 "cells": [
  {
   "cell_type": "code",
   "execution_count": 8,
   "metadata": {
    "collapsed": false
   },
   "outputs": [
    {
     "data": {
      "text/plain": [
       "0.7833333333333333"
      ]
     },
     "execution_count": 8,
     "metadata": {},
     "output_type": "execute_result"
    }
   ],
   "source": [
    "def prob(k,m,n):\n",
    "    population=k+n+m\n",
    "    dom=(k)*(k-1)/2\n",
    "    heteroD=k*m\n",
    "    homoR=k*n\n",
    "    ratioD=0.75*m*(m-1)/2\n",
    "    ratioR=0.5*m*n\n",
    "    return (dom+heteroD+ homoR+ratioD+ratioR)/(population*(population-1)/2)\n",
    "prob(2,2,2)"
   ]
  }
 ],
 "metadata": {
  "kernelspec": {
   "display_name": "Python [Root]",
   "language": "python",
   "name": "Python [Root]"
  },
  "language_info": {
   "codemirror_mode": {
    "name": "ipython",
    "version": 3
   },
   "file_extension": ".py",
   "mimetype": "text/x-python",
   "name": "python",
   "nbconvert_exporter": "python",
   "pygments_lexer": "ipython3",
   "version": "3.5.2"
  }
 },
 "nbformat": 4,
 "nbformat_minor": 0
}
