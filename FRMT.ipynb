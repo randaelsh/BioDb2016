{
 "cells": [
  {
   "cell_type": "code",
   "execution_count": 60,
   "metadata": {
    "collapsed": false
   },
   "outputs": [
    {
     "name": "stdout",
     "output_type": "stream",
     "text": [
      "ID: gi|408690371|gb|JX469983.1|\n",
      "Name: gi|408690371|gb|JX469983.1|\n",
      "Description: gi|408690371|gb|JX469983.1| Zea mays subsp. mays clone UT3343 G2-like transcription factor mRNA, partial cds\n",
      "Number of features: 0\n",
      "Seq('ATGATGTATCATGCGAAGAATTTTTCTGTGCCCTTTGCTCCGCAGAGGGCACAG...TCA', SingleLetterAlphabet())\n",
      "gi|408690371|gb|JX469983.1| Zea mays subsp. mays clone UT3343 G2-like transcription factor mRNA, partial cds\n",
      "ATGATGTATCATGCGAAGAATTTTTCTGTGCCCTTTGCTCCGCAGAGGGCACAGGATAATGAGCATGCAAGTAATATTGGAGGTATTGGTGGACCCAACATAAGCAACCCTGCTAATCCTGTAGGAAGTGGGAAACAACGGCTACGGTGGACATCGGATCTTCATAATCGCTTTGTGGATGCCATCGCCCAGCTTGGTGGACCAGACAGAGCTACACCTAAAGGGGTTCTCACTGTGATGGGTGTACCAGGGATCACAATTTATCATGTGAAGAGCCATCTGCAGAAGTATCGCCTTGCAAAGTATATACCCGACTCTCCTGCTGAAGGTTCCAAGGACGAAAAGAAAGATTCGAGTGATTCCCTCTCGAACACGGATTCGGCACCAGGATTGCAAATCAATGAGGCACTAAAGATGCAAATGGAGGTTCAGAAGCGACTACATGAGCAACTCGAGGTTCAAAGACAACTGCAACTAAGAATTGAAGCACAAGGAAGATACTTGCAGATGATCATTGAGGAGCAACAAAAGCTTGGTGGATCAATTAAGGCTTCTGAGGATCAGAAGCTTTCTGATTCACCTCCAAGCTTAGATGACTACCCAGAGAGCATGCAACCTTCTCCCAAGAAACCAAGGATAGACGCATTATCACCAGATTCAGAGCGCGATACAACACAACCTGAATTCGAATCCCATTTGATCGGTCCGTGGGATCACGGCATTGCATTCCCAGTGGAGGAGTTCAAAGCAGGCCCTGCTATGAGCAAGTCA\n"
     ]
    }
   ],
   "source": [
    "from Bio import Entrez\n",
    "from Bio import SeqIO\n",
    "Entrez.email = \"randa.shawdify@gmail.com\"\n",
    "\n",
    "def Shortest_string(length):\n",
    "    result=min(length.values())\n",
    "    for l in length :\n",
    "        if ( length[l]==result ):\n",
    "            return( l)\n",
    "\n",
    "\n",
    "fetching = Entrez.efetch(db=\"nucleotide\", id=[codes], rettype=\"fasta\")\n",
    "fastaTool = list (SeqIO.parse(fetching, \"fasta\")) #we get the list of SeqIO objects in FASTA format\n",
    "codesInd = codes.split()\n",
    "i=0\n",
    "dict={}\n",
    "for c in codesInd:\n",
    "    dict[c]=len(fastaTool[i].seq+fastaTool[i].name+fastaTool[i].description)\n",
    "    i=i+1\n",
    "    \n",
    "fetching = Entrez.efetch(db=\"nucleotide\", id=[Shortest_string(dict)], rettype=\"fasta\")\n",
    "fastaTool = list (SeqIO.parse(fetching, \"fasta\")) #we get the list of SeqIO objects in FASTA format\n",
    "print (records[0]) \n",
    "\n",
    "ID=records[0].id\n",
    "desc=records[0].description\n",
    "final=desc+\"\\n\"+records[0].seq\n",
    "codes=\"FJ817486 JX069768 JX469983\"\n",
    "print(final)\n",
    "\n"
   ]
  }
 ],
 "metadata": {
  "kernelspec": {
   "display_name": "Python [Root]",
   "language": "python",
   "name": "Python [Root]"
  },
  "language_info": {
   "codemirror_mode": {
    "name": "ipython",
    "version": 3
   },
   "file_extension": ".py",
   "mimetype": "text/x-python",
   "name": "python",
   "nbconvert_exporter": "python",
   "pygments_lexer": "ipython3",
   "version": "3.5.2"
  }
 },
 "nbformat": 4,
 "nbformat_minor": 0
}
