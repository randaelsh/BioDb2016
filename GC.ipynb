{
 "cells": [
  {
   "cell_type": "markdown",
   "metadata": {},
   "source": [
    "## 4.GC"
   ]
  },
  {
   "cell_type": "code",
   "execution_count": 30,
   "metadata": {
    "collapsed": false
   },
   "outputs": [
    {
     "name": "stdout",
     "output_type": "stream",
     "text": [
      "Rosalind_0808 54.55882352941177\n"
     ]
    }
   ],
   "source": [
    "\n",
    "def GCcontent(fastafile):\n",
    "    GC=0\n",
    "    AT=0\n",
    "    GCratio=0\n",
    "              \n",
    "    for i in range(len(fastafile)):\n",
    "        \n",
    "        if(fastafile[i]== 'G'):\n",
    "            GC= GC+1\n",
    "        elif(fastafile[i]== 'C'):\n",
    "            GC= GC+1\n",
    "        elif(fastafile[i]== 'A'):\n",
    "            AT= AT+1\n",
    "        elif(fastafile[i]== 'T'):\n",
    "            AT= AT+1\n",
    "        elif(fastafile[i] == \" \"):\n",
    "            break\n",
    "    GCratio = GC/AT+GC\n",
    "    return(GCratio)\n",
    "    \n",
    "\n",
    "Rosalind_6404='CCTGCGGAAGATCGGCACTAGAATAGCCAGAACCGTTTCTCTGAGGCTTCCGGCCTTCCCTCCCACTAATAATTCTGAGG'\n",
    "Rosalind_5959='CCATCGGTAGCGCATCCTTAGTCCAATTAAGTCCCTATCCAGGCGCTCCGCCGAAGGTCTATATCCATTTGTCAGCAGACACGC'\n",
    "Rosalind_0808='CCACCCTCGTGGTATGGCTAGGCATTCAGGAACCGGAGAACGCTTCAGACCAGCCCGGACTGGGAACCTGCGGGCAGTAGGTGGAAT'\n",
    "x=GCcontent(Rosalind_6404)\n",
    "y=GCcontent(Rosalind_5959)\n",
    "z=GCcontent(Rosalind_0808)\n",
    "if x>y:\n",
    "    print('Rosalind_6404',x)\n",
    "elif y>z:\n",
    "     print('Rosalind_5959',y)\n",
    "elif z>x:\n",
    "    print('Rosalind_0808',z)\n",
    "\n",
    "#max(GCcontent(Rosalind_6404),GCcontent(Rosalind_5959),GCcontent(Rosalind_0808))\n"
   ]
  }
 ],
 "metadata": {
  "anaconda-cloud": {},
  "kernelspec": {
   "display_name": "Python [Root]",
   "language": "python",
   "name": "Python [Root]"
  },
  "language_info": {
   "codemirror_mode": {
    "name": "ipython",
    "version": 3
   },
   "file_extension": ".py",
   "mimetype": "text/x-python",
   "name": "python",
   "nbconvert_exporter": "python",
   "pygments_lexer": "ipython3",
   "version": "3.5.2"
  }
 },
 "nbformat": 4,
 "nbformat_minor": 0
}
