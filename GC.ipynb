{
 "cells": [
  {
   "cell_type": "markdown",
   "metadata": {},
   "source": [
    "## 4.GC"
   ]
  },
  {
   "cell_type": "code",
   "execution_count": 10,
   "metadata": {
    "collapsed": false
   },
   "outputs": [
    {
     "name": "stdout",
     "output_type": "stream",
     "text": [
      "Rosalind_6404 53.75\n"
     ]
    },
    {
     "data": {
      "text/plain": [
       "60.91954022988506"
      ]
     },
     "execution_count": 10,
     "metadata": {},
     "output_type": "execute_result"
    }
   ],
   "source": [
    "\n",
    "def GCcontent(fastafile):\n",
    "    G=0\n",
    "    C=0\n",
    "    A=0\n",
    "    T=0\n",
    "    GCratio=0\n",
    "              \n",
    "    for i in range(len(fastafile)):\n",
    "        \n",
    "        if(fastafile[i]== 'G'):\n",
    "            G= G+1\n",
    "        elif(fastafile[i]== 'C'):\n",
    "            C= C+1\n",
    "        elif(fastafile[i]== 'A'):\n",
    "            A= A+1\n",
    "        elif(fastafile[i]== 'T'):\n",
    "            T= T+1\n",
    " #elif(fastafile[i] == \" \"):\n",
    "           # break\n",
    "    ALL = A+G+T+C\n",
    "    GC = G+C\n",
    "    GCratio = (GC/ALL)*100\n",
    "    return(GCratio)\n",
    "    \n",
    "\n",
    "Rosalind_6404='CCTGCGGAAGATCGGCACTAGAATAGCCAGAACCGTTTCTCTGAGGCTTCCGGCCTTCCCTCCCACTAATAATTCTGAGG'\n",
    "Rosalind_5959='CCATCGGTAGCGCATCCTTAGTCCAATTAAGTCCCTATCCAGGCGCTCCGCCGAAGGTCTATATCCATTTGTCAGCAGACACGC'\n",
    "Rosalind_0808='CCACCCTCGTGGTATGGCTAGGCATTCAGGAACCGGAGAACGCTTCAGACCAGCCCGGACTGGGAACCTGCGGGCAGTAGGTGGAAT'\n",
    "\n",
    "x=GCcontent(Rosalind_6404)\n",
    "y=GCcontent(Rosalind_5959)\n",
    "z=GCcontent(Rosalind_0808)\n",
    "if x>y:\n",
    "    print('Rosalind_6404',x)\n",
    "elif y>z:\n",
    "     print('Rosalind_5959',y)\n",
    "elif z>x:\n",
    "    print('Rosalind_0808',z)\n",
    "\n",
    "max(GCcontent(Rosalind_6404),GCcontent(Rosalind_5959),GCcontent(Rosalind_0808))\n"
   ]
  },
  {
   "cell_type": "code",
   "execution_count": null,
   "metadata": {
    "collapsed": true
   },
   "outputs": [],
   "source": []
  }
 ],
 "metadata": {
  "anaconda-cloud": {},
  "kernelspec": {
   "display_name": "Python [Root]",
   "language": "python",
   "name": "Python [Root]"
  },
  "language_info": {
   "codemirror_mode": {
    "name": "ipython",
    "version": 3
   },
   "file_extension": ".py",
   "mimetype": "text/x-python",
   "name": "python",
   "nbconvert_exporter": "python",
   "pygments_lexer": "ipython3",
   "version": "3.5.2"
  }
 },
 "nbformat": 4,
 "nbformat_minor": 0
}
