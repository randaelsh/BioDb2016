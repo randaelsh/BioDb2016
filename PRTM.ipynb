{
 "cells": [
  {
   "cell_type": "code",
   "execution_count": 14,
   "metadata": {
    "collapsed": false
   },
   "outputs": [
    {
     "name": "stdout",
     "output_type": "stream",
     "text": [
      "821.3919199999999\n"
     ]
    }
   ],
   "source": [
    "MonoisotopicMass = {\n",
    "    'A': 71.03711,\n",
    "    'C': 103.00919,\n",
    "    'D': 115.02694,\n",
    "    'E': 129.04259,\n",
    "    'F': 147.06841,\n",
    "    'G': 57.02146,\n",
    "    'H': 137.05891,\n",
    "    'I': 113.08406,\n",
    "    'K': 128.09496,\n",
    "    'L': 113.08406,\n",
    "    'M': 131.04049,\n",
    "    'N': 114.04293,\n",
    "    'P': 97.05276,\n",
    "    'Q': 128.05858,\n",
    "    'R': 156.10111,\n",
    "    'S': 87.03203,\n",
    "    'T': 101.04768,\n",
    "    'V': 99.06841,\n",
    "    'W': 186.07931,\n",
    "    'Y': 163.06333,\n",
    "}\n",
    "\n",
    "def weight(protein):\n",
    "    result = 0\n",
    "    for p in protein:\n",
    "        result += MonoisotopicMass[p]\n",
    "    return result\n",
    "\n",
    "\n",
    "test = \"SKADYEK\"\n",
    "print (weight(test))\n"
   ]
  },
  {
   "cell_type": "code",
   "execution_count": null,
   "metadata": {
    "collapsed": true
   },
   "outputs": [],
   "source": []
  }
 ],
 "metadata": {
  "kernelspec": {
   "display_name": "Python [Root]",
   "language": "python",
   "name": "Python [Root]"
  },
  "language_info": {
   "codemirror_mode": {
    "name": "ipython",
    "version": 3
   },
   "file_extension": ".py",
   "mimetype": "text/x-python",
   "name": "python",
   "nbconvert_exporter": "python",
   "pygments_lexer": "ipython3",
   "version": "3.5.2"
  }
 },
 "nbformat": 4,
 "nbformat_minor": 0
}
