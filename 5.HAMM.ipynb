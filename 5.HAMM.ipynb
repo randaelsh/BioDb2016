{
 "cells": [
  {
   "cell_type": "markdown",
   "metadata": {},
   "source": [
    "### 5.HAMM"
   ]
  },
  {
   "cell_type": "code",
   "execution_count": 11,
   "metadata": {
    "collapsed": false
   },
   "outputs": [
    {
     "data": {
      "text/plain": [
       "7"
      ]
     },
     "execution_count": 11,
     "metadata": {},
     "output_type": "execute_result"
    }
   ],
   "source": [
    "def HammingDist(s,t):\n",
    "    sequence=min(len(s), len(t))\n",
    "    distance=abs(len(s)-len(t))\n",
    "    for i in range(0,sequence):\n",
    "        if (s[i]!=t[i]): \n",
    "                distance+=1 \n",
    "    return(distance) \n",
    "       \n",
    "a=('GAGCCTACTAACGGGAT')\n",
    "b=('CATCGTAATGACGGCCT')\n",
    "HammingDist(a,b)"
   ]
  }
 ],
 "metadata": {
  "kernelspec": {
   "display_name": "Python [Root]",
   "language": "python",
   "name": "Python [Root]"
  },
  "language_info": {
   "codemirror_mode": {
    "name": "ipython",
    "version": 3
   },
   "file_extension": ".py",
   "mimetype": "text/x-python",
   "name": "python",
   "nbconvert_exporter": "python",
   "pygments_lexer": "ipython3",
   "version": "3.5.2"
  }
 },
 "nbformat": 4,
 "nbformat_minor": 0
}
