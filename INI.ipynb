{
 "cells": [
  {
   "cell_type": "code",
   "execution_count": 1,
   "metadata": {
    "collapsed": false
   },
   "outputs": [
    {
     "name": "stdout",
     "output_type": "stream",
     "text": [
      "C: 12\n",
      "A: 20\n",
      "G: 17\n",
      "T: 21\n"
     ]
    }
   ],
   "source": [
    "def Count(DNA):\n",
    "    counC=0\n",
    "    counA=0\n",
    "    counT=0\n",
    "    counG=0\n",
    "    \n",
    "    for i in range (len(DNA)):\n",
    "        if(DNA[i]=='C'):\n",
    "            counC=counC+1\n",
    "        elif (DNA[i]=='A'):\n",
    "            counA=counA+1 \n",
    "        elif (DNA[i]=='G'):\n",
    "            counG=counG+1     \n",
    "        else:\n",
    "            DNA[i]=='T'\n",
    "            counT=counT+1 \n",
    "    print('C:',counC) \n",
    "    print('A:',counA)  \n",
    "    print('G:',counG)  \n",
    "    print('T:',counT)   \n",
    "           \n",
    "\n",
    "DNA=('AGCTTTTCATTCTGACTGCAACGGGCAATATGTCTCTGTGTGGATTAAAAAAAGAGTGTCTGATAGCAGC')\n",
    "Count(DNA)"
   ]
  }
 ],
 "metadata": {
  "kernelspec": {
   "display_name": "Python [Root]",
   "language": "python",
   "name": "Python [Root]"
  },
  "language_info": {
   "codemirror_mode": {
    "name": "ipython",
    "version": 3
   },
   "file_extension": ".py",
   "mimetype": "text/x-python",
   "name": "python",
   "nbconvert_exporter": "python",
   "pygments_lexer": "ipython3",
   "version": "3.5.2"
  }
 },
 "nbformat": 4,
 "nbformat_minor": 0
}
