{
 "cells": [
  {
   "cell_type": "code",
   "execution_count": 29,
   "metadata": {
    "collapsed": false
   },
   "outputs": [
    {
     "data": {
      "text/plain": [
       "19"
      ]
     },
     "execution_count": 29,
     "metadata": {},
     "output_type": "execute_result"
    }
   ],
   "source": [
    "def Fib(n,k):\n",
    "    F1=F2=1\n",
    "    result = 0\n",
    "    for i in range(n):\n",
    "        if (n==0):\n",
    "            result ==0\n",
    "        elif(n==1):\n",
    "            result==1\n",
    "        elif (n>1):\n",
    "            result= (Fib(n-1),k)+Fib((n-2),k)\n",
    "    return result\n",
    "            \n",
    "fib(5,3)            \n",
    "    "
   ]
  }
 ],
 "metadata": {
  "kernelspec": {
   "display_name": "Python [Root]",
   "language": "python",
   "name": "Python [Root]"
  },
  "language_info": {
   "codemirror_mode": {
    "name": "ipython",
    "version": 3
   },
   "file_extension": ".py",
   "mimetype": "text/x-python",
   "name": "python",
   "nbconvert_exporter": "python",
   "pygments_lexer": "ipython3",
   "version": "3.5.2"
  }
 },
 "nbformat": 4,
 "nbformat_minor": 0
}
