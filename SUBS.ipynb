{
 "cells": [
  {
   "cell_type": "code",
   "execution_count": 20,
   "metadata": {
    "collapsed": false
   },
   "outputs": [
    {
     "name": "stdout",
     "output_type": "stream",
     "text": [
      "2 4 10\n"
     ]
    }
   ],
   "source": [
    "def motif(seq1,seq2):\n",
    "    result = []\n",
    "    for i in range(0, len(seq1)-len(seq2)+1):\n",
    "        if seq1[i:i+len(seq2)] == seq2:\n",
    "            result.append(str(i+1))\n",
    "\n",
    "    print(' '.join(result))\n",
    "  \n",
    "    \n",
    "seq1='GATATATGCATATACTT'\n",
    "seq2='ATAT'\n",
    "motif(seq1,seq2)\n"
   ]
  }
 ],
 "metadata": {
  "kernelspec": {
   "display_name": "Python [Root]",
   "language": "python",
   "name": "Python [Root]"
  },
  "language_info": {
   "codemirror_mode": {
    "name": "ipython",
    "version": 3
   },
   "file_extension": ".py",
   "mimetype": "text/x-python",
   "name": "python",
   "nbconvert_exporter": "python",
   "pygments_lexer": "ipython3",
   "version": "3.5.2"
  }
 },
 "nbformat": 4,
 "nbformat_minor": 0
}
