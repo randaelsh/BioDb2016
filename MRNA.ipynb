{
 "cells": [
  {
   "cell_type": "code",
   "execution_count": 4,
   "metadata": {
    "collapsed": false
   },
   "outputs": [
    {
     "name": "stdout",
     "output_type": "stream",
     "text": [
      "12\n"
     ]
    }
   ],
   "source": [
    "def RNA(protein):\n",
    "    codons = {'A': 4,'C': 2,'D': 2,'E': 2,'F': 2,'G': 4,'H': 2,'I': 3,'K': 2,'L': 6,'M': 1,'N': 2,'P': 4,'Q': 2,'R': 6,'S': 6,'T': 4,'V': 4,'W': 1,'Y': 2}\n",
    "    result = 1\n",
    "    for p in protein:\n",
    "        result *= codons[p]\n",
    "    return 3*result % 1000000\n",
    "\n",
    "print( RNA(\"MA\"))"
   ]
  }
 ],
 "metadata": {
  "anaconda-cloud": {},
  "kernelspec": {
   "display_name": "Python [Root]",
   "language": "python",
   "name": "Python [Root]"
  },
  "language_info": {
   "codemirror_mode": {
    "name": "ipython",
    "version": 3
   },
   "file_extension": ".py",
   "mimetype": "text/x-python",
   "name": "python",
   "nbconvert_exporter": "python",
   "pygments_lexer": "ipython3",
   "version": "3.5.2"
  }
 },
 "nbformat": 4,
 "nbformat_minor": 0
}
