{
 "cells": [
  {
   "cell_type": "code",
   "execution_count": 13,
   "metadata": {
    "collapsed": false
   },
   "outputs": [
    {
     "name": "stdout",
     "output_type": "stream",
     "text": [
      "B5ZC00\n",
      "85 118 142 306 395\n",
      "P07204_TRBM_HUMAN\n",
      "47 115 116 382 409\n",
      "P20840_SAG1_YEAST\n",
      "79 109 135 248 306 348 364 402 485 501 614\n"
     ]
    }
   ],
   "source": [
    "import re\n",
    "import sys\n",
    "from io import StringIO\n",
    "from Bio import SeqIO\n",
    "import requests\n",
    "\n",
    "\n",
    "if __name__ == '__main__':\n",
    "    text = open('rosalind_mprt.txt','r')\n",
    "    reading = text.read().strip().split('\\n')\n",
    "    for rea in reading:\n",
    "        r = requests.get('http://www.uniprot.org/uniprot/%s.fasta' % rea)\n",
    "        s = SeqIO.read(StringIO(r.text), 'fasta')\n",
    "        mos = [x for x in re.finditer(r'(?=(N[^P][ST][^P]))',  str(s.seq))]\n",
    "        if not len(mos):\n",
    "            continue\n",
    "        print(rea)\n",
    "        print(' '.join([str(mo.start(0) + 1) for mo in mos]))"
   ]
  },
  {
   "cell_type": "code",
   "execution_count": null,
   "metadata": {
    "collapsed": true
   },
   "outputs": [],
   "source": []
  }
 ],
 "metadata": {
  "anaconda-cloud": {},
  "kernelspec": {
   "display_name": "Python [Root]",
   "language": "python",
   "name": "Python [Root]"
  },
  "language_info": {
   "codemirror_mode": {
    "name": "ipython",
    "version": 3
   },
   "file_extension": ".py",
   "mimetype": "text/x-python",
   "name": "python",
   "nbconvert_exporter": "python",
   "pygments_lexer": "ipython3",
   "version": "3.5.2"
  }
 },
 "nbformat": 4,
 "nbformat_minor": 0
}
