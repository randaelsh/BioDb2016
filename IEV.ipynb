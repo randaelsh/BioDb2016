{
 "cells": [
  {
   "cell_type": "code",
   "execution_count": 9,
   "metadata": {
    "collapsed": false
   },
   "outputs": [
    {
     "name": "stdout",
     "output_type": "stream",
     "text": [
      "1\n",
      "0\n",
      "0\n",
      "1\n",
      "0\n",
      "1\n",
      "3.5\n"
     ]
    }
   ],
   "source": [
    "input=\"1 0 0 1 0 1\"\n",
    "\n",
    "value = input.split()\n",
    "\n",
    "dict={}\n",
    "total=0\n",
    "num = [1,1,1,0.75,0.5,0]\n",
    "i=0\n",
    "for v in value:\n",
    "    print(v)\n",
    "    total=total+int(v)*num[i]\n",
    "    i=i+1\n",
    "print(2*total)"
   ]
  },
  {
   "cell_type": "code",
   "execution_count": null,
   "metadata": {
    "collapsed": true
   },
   "outputs": [],
   "source": []
  }
 ],
 "metadata": {
  "anaconda-cloud": {},
  "kernelspec": {
   "display_name": "Python [Root]",
   "language": "python",
   "name": "Python [Root]"
  },
  "language_info": {
   "codemirror_mode": {
    "name": "ipython",
    "version": 3
   },
   "file_extension": ".py",
   "mimetype": "text/x-python",
   "name": "python",
   "nbconvert_exporter": "python",
   "pygments_lexer": "ipython3",
   "version": "3.5.2"
  }
 },
 "nbformat": 4,
 "nbformat_minor": 0
}
