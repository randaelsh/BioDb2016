{
 "cells": [
  {
   "cell_type": "code",
   "execution_count": 21,
   "metadata": {
    "collapsed": false
   },
   "outputs": [
    {
     "name": "stdout",
     "output_type": "stream",
     "text": [
      "Rosalind_0498 Rosalind_2391\n",
      "Rosalind_0498 Rosalind_0442\n",
      "Rosalind_2391 Rosalind_2323\n"
     ]
    }
   ],
   "source": [
    "def Readfasta(fasta):\n",
    "    AdjacencyList = []\n",
    "    Text = fasta.strip().split('>')\n",
    "\n",
    "    for t in Text:\n",
    "        if len(t):\n",
    "            SplitT = t.split()\n",
    "            k = SplitT[0]\n",
    "            v = ''.join(SplitT[1:])\n",
    "            AdjacencyList.append((k, v))\n",
    "\n",
    "    return AdjacencyList\n",
    "\n",
    "\n",
    "def Graph(fasta, n):\n",
    "    AdjacencyList = []\n",
    "\n",
    "    seq = Readfasta(fasta)\n",
    "\n",
    "    for S1, Q1 in seq:\n",
    "        for S2, Q2 in seq:\n",
    "            if S1 != S2 and Q1.endswith(Q2[:n]):\n",
    "                AdjacencyList.append((S1, S2))\n",
    "\n",
    "    return AdjacencyList\n",
    "\n",
    "\n",
    "test = open('fasta_graph.txt').read()\n",
    "\n",
    "for G in Graph(test, 3):\n",
    "    print (G[0], G[1])"
   ]
  },
  {
   "cell_type": "code",
   "execution_count": null,
   "metadata": {
    "collapsed": true
   },
   "outputs": [],
   "source": []
  }
 ],
 "metadata": {
  "anaconda-cloud": {},
  "kernelspec": {
   "display_name": "Python [Root]",
   "language": "python",
   "name": "Python [Root]"
  },
  "language_info": {
   "codemirror_mode": {
    "name": "ipython",
    "version": 3
   },
   "file_extension": ".py",
   "mimetype": "text/x-python",
   "name": "python",
   "nbconvert_exporter": "python",
   "pygments_lexer": "ipython3",
   "version": "3.5.2"
  }
 },
 "nbformat": 4,
 "nbformat_minor": 0
}
